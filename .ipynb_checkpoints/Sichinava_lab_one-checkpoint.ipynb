{
 "cells": [
  {
   "cell_type": "markdown",
   "metadata": {
    "collapsed": false,
    "nbpresent": {
     "id": "6b65f345-536c-481a-b093-27ffb5309ed2"
    }
   },
   "source": [
    "## Forensics of the 2016 State Duma (legislative) Elections  in Russia \n",
    "\n",
    "### Benford's law of leading digits and its application in election forensics\n",
    "\n",
    "This class project present the analysis of 2016 legislative elections in Russian Federation. The electoral precinct level data is analyzed using Benford's Law, a [phenomenological](http://mathworld.wolfram.com/BenfordsLaw.html) principle describing the probabilities of leading digit occurence in data tables. \n",
    "Benford's first digit law implies that the probability of a leading  digit (d) in a table of physical or statistical data can be calculated using the [formula](http://mathworld.wolfram.com/BenfordsLaw.html):\n",
    "\n",
    "$$\n",
    "P(d)=  \\frac{log(1+\\frac{1}{d})}{log},\n",
    "$$\n",
    "\n",
    "This equation can be given in a [recurrence form](http://www.statisticalconsultants.co.nz/blog/benfords-law-and-accounting-fraud-detection.html):\n",
    "$$\n",
    "P_{n}(d)= \\sum_{k=10^{n-2}}^{n=10^{n-1}-1} log_{10} (1+ \\frac{1}{10k+d})\n",
    "$$\n",
    "where n is n-th digit of number d\n",
    "\n",
    "Considering this, the probability of occurence for each digit will be as follows:\n",
    "\n",
    "Digit (d) | Probability of being a leading digit(P)\n",
    "-----------|-----------\n",
    "1\t| 0.30103\n",
    "2\t| 0.176091\n",
    "3\t| 0.124939\n",
    "4\t| 0.09691\n",
    "5\t| 0.0791812\n",
    "6\t| 0.0669468\n",
    "7\t| 0.0579919\n",
    "8\t| 0.0511525\n",
    "9\t| 0.0457575\n",
    "\n",
    "Originally discovered by [Simon Newcomb](http://www.jstor.org/stable/2369148?origin=crossref&seq=1#page_scan_tab_contents), the 'law' was rediscovered by American physicist [Frank Benford](https://www.jstor.org/stable/984802?seq=1#page_scan_tab_contents). Benford's law has been applied for detecting [tax evasion](http://search.proquest.com/docview/211023799?pq-origsite=gscholar), [detecting irregularities in accountancy](https://www.researchgate.net/profile/Cindy_Durtschi/publication/241401706_The_Effective_Use_of_Benford's_Law_to_Assist_in_Detecting_Fraud_in_Accounting_Data/links/54982f4a0cf2c5a7e342a59e.pdf), [fraudulent scientific data](http://www.tandfonline.com/doi/abs/10.1080/02664760601004940) and the most recently, for checking irregularities in [elections](http://citeseerx.ist.psu.edu/viewdoc/download?doi=10.1.1.556.5055&rep=rep1&type=pdf). Although the method is a very handful tool for examining electoral manipulation, it has been felt to a serious criticism (see [here](https://www.researchgate.net/publication/227450786_When_Does_the_Second-Digit_Benford's_Law-Test_Signal_an_Election_Fraud_Facts_or_Misleading_Test_Results) and [here](http://pan.oxfordjournals.org/content/19/3/269.short)).\n",
    "\n",
    "[Walter Mebane](http://www-personal.umich.edu/~wmebane/) of the University of Michigan and the colleagues have developed a very comprehensive election forensics toolkit in [R](http://www.electiondataarchive.org/forensics.html). A very simple implementation of one element of this toolkit is given below."
   ]
  },
  {
   "cell_type": "markdown",
   "metadata": {},
   "source": [
    "### Why Russia\n",
    "\n",
    "On September 18<sup>th</sup> Russia hold legislative elections. As it was [expected](https://www.washingtonpost.com/news/monkey-cage/wp/2016/09/16/no-you-wont-see-russians-protesting-a-putin-win-on-sunday-even-if-his-party-really-lost/), ruling United Russia party managed to win a comfortable [majority](http://www.reuters.com/article/us-russia-electon-idUSKCN11N0T6) in the State Duma, followed by closely associated parties, such as nationalist Liberal Democratic Party, Communist Party of Russia and center-left Just Russia. \n",
    "\n",
    "![In Russia, presidents ride bears](putin_riding_bear.jpg)\n",
    "\n",
    "Although the pollsters have been predicting a [comfortable victory](https://www.bloomberg.com/view/articles/2016-07-08/russia-has-the-most-boring-election-of-2016) for Vladimir Putin's United Russia, there were many reports of election [irregulations](http://www.reuters.com/article/us-russia-electon-idUSKCN11N0T6) including ballot stuffing and so called 'carousels'. The cases were even recorded through the [web cameras](https://www.youtube.com/watch?v=iRqEMIdSDGE) installed at voting precints. Moreover, Russian data scientist, Sergey Shpilkin made a series of [claims](http://podmoskovnik.livejournal.com/175574.html) arguing that at some constituencies election results have been made up. The allegations made Shpilkin more or less hold together when the evidences from the [parallel vote tabulation](http://www.sms-cik.org/) are added to the picture.\n",
    "\n",
    "In the analysis below, I use scraped results of proportional voting compiled by Shpilkin which is freely available through [Google Drive](https://drive.google.com/drive/u/0/folders/0ByFMnUnpIlriSmZtNU4tTldkZjg). For convenience purposes, I only use vote share figures for ruling United Russia and final turnout values.\n"
   ]
  },
  {
   "cell_type": "code",
   "execution_count": 234,
   "metadata": {
    "collapsed": false,
    "nbpresent": {
     "id": "d7590561-60d4-401b-9ed8-d2af667070e3"
    }
   },
   "outputs": [],
   "source": [
    "import pandas as pd\n",
    "import numpy as np\n",
    "from scipy.stats import chisquare\n",
    "import matplotlib.pyplot as plt\n",
    "plt.rcdefaults()\n",
    "import numpy as np\n",
    "import matplotlib.pyplot as plt\n",
    "import seaborn as sns\n"
   ]
  },
  {
   "cell_type": "code",
   "execution_count": 235,
   "metadata": {
    "collapsed": false,
    "nbpresent": {
     "id": "05620d0a-769e-445a-86cb-dddb8b53ce6e"
    }
   },
   "outputs": [],
   "source": [
    "path=\"table_233_level_4.csv\"\n",
    "df=pd.read_csv(path, sep='\\t')\n",
    "colNames=[\"Region\", \"Regional_Election_Commission\", \"District_Election_Commission\", \"Precinct\", \"Total_voters_registered\", \"Total_ballots_received\", \"Total_ballots_for_early_voting\", \"Total_ballots_used_inside_the_building\", \"Total_ballots_used_outside_the_building\", \"Total_unused_ballots\", \"Total_ballots_in_moving_box\", \"Total_ballots_at_non_moving_box\", \"Total_invalid_ballots\", \"Total_valid_ballots\", \"Total_temporary_id_cards\", \"Total_temporary_id_cards_issued_at_spot\", \"Total_temporary_id_cards_voters\", \"Total_temporary_id_not_used\", \"Total_temporary_id_issued_by_precinct_commission\", \"Total_temporary_id_lost\", \"Total_ballots_lost\", \"Total_ballots_unused\", \"Rodina\", \"Communists_of_Russia\", \"Russian_Pensioners\", \"United_Russia\", \"Green_party\", \"Civic_platform\", \"Liberal_democratic_party\", \"PARNAS\", \"Party_of_growth\", \"Civil_might\", \"Yabloko\", \"Communist_party_of_Russia\", \"Patriots_of_Russia\", \"Just_Russia\", \"url\"]\n",
    "df.columns=colNames"
   ]
  },
  {
   "cell_type": "markdown",
   "metadata": {},
   "source": [
    "### Data manipulation\n",
    "Let's reshape the data frame into tidy format. In the final data frame, columns \"Region\" and \"Precinct\" form id for the observations. column \"variable\" will contain definitions for the votes cast for the United Russia (\"United_Russia\") and the total number of voters who showed up at polling stations.\n",
    "\n",
    "As the dataset does not explicitly give us turnout numbers, I'm calculating \"turnout\" column by summing up valid and invalid ballots. Next, I'm subsetting the necessary variables from the source data frame and finally, melting it into tidy form.\n",
    "\n",
    "Results of three polling stations were annulled, consequently I will exclude them from the analysis"
   ]
  },
  {
   "cell_type": "code",
   "execution_count": 236,
   "metadata": {
    "collapsed": false
   },
   "outputs": [
    {
     "data": {
      "text/html": [
       "<div>\n",
       "<table border=\"1\" class=\"dataframe\">\n",
       "  <thead>\n",
       "    <tr style=\"text-align: right;\">\n",
       "      <th></th>\n",
       "      <th>Region</th>\n",
       "      <th>Precinct</th>\n",
       "      <th>Variable</th>\n",
       "      <th>Value</th>\n",
       "    </tr>\n",
       "  </thead>\n",
       "  <tbody>\n",
       "    <tr>\n",
       "      <th>0</th>\n",
       "      <td>Республика Адыгея (Адыгея)</td>\n",
       "      <td>УИК №1</td>\n",
       "      <td>United_Russia</td>\n",
       "      <td>1796</td>\n",
       "    </tr>\n",
       "    <tr>\n",
       "      <th>1</th>\n",
       "      <td>Республика Адыгея (Адыгея)</td>\n",
       "      <td>УИК №2</td>\n",
       "      <td>United_Russia</td>\n",
       "      <td>1290</td>\n",
       "    </tr>\n",
       "    <tr>\n",
       "      <th>2</th>\n",
       "      <td>Республика Адыгея (Адыгея)</td>\n",
       "      <td>УИК №3</td>\n",
       "      <td>United_Russia</td>\n",
       "      <td>1984</td>\n",
       "    </tr>\n",
       "    <tr>\n",
       "      <th>3</th>\n",
       "      <td>Республика Адыгея (Адыгея)</td>\n",
       "      <td>УИК №4</td>\n",
       "      <td>United_Russia</td>\n",
       "      <td>1441</td>\n",
       "    </tr>\n",
       "    <tr>\n",
       "      <th>4</th>\n",
       "      <td>Республика Адыгея (Адыгея)</td>\n",
       "      <td>УИК №5</td>\n",
       "      <td>United_Russia</td>\n",
       "      <td>240</td>\n",
       "    </tr>\n",
       "  </tbody>\n",
       "</table>\n",
       "</div>"
      ],
      "text/plain": [
       "                       Region Precinct       Variable  Value\n",
       "0  Республика Адыгея (Адыгея)   УИК №1  United_Russia   1796\n",
       "1  Республика Адыгея (Адыгея)   УИК №2  United_Russia   1290\n",
       "2  Республика Адыгея (Адыгея)   УИК №3  United_Russia   1984\n",
       "3  Республика Адыгея (Адыгея)   УИК №4  United_Russia   1441\n",
       "4  Республика Адыгея (Адыгея)   УИК №5  United_Russia    240"
      ]
     },
     "execution_count": 236,
     "metadata": {},
     "output_type": "execute_result"
    }
   ],
   "source": [
    "df['Turnout']=df['Total_valid_ballots']+df['Total_invalid_ballots']\n",
    "ruElect=df[['Region', 'Precinct', 'United_Russia', 'Turnout']]\n",
    "ruTidy = pd.melt(ruElect, id_vars=['Region', 'Precinct'], var_name=\"Variable\", value_name=\"Value\")\n",
    "ruTidy=ruTidy[ruTidy.Value!=0]\n",
    "ruTidy.head()"
   ]
  },
  {
   "cell_type": "markdown",
   "metadata": {},
   "source": [
    "Now, subset datased for \"United_Russia\" and check the first digits for the party's votes against Benford's law:"
   ]
  },
  {
   "cell_type": "code",
   "execution_count": 237,
   "metadata": {
    "collapsed": false
   },
   "outputs": [],
   "source": [
    "unRussia=ruTidy[ruTidy['Variable'].isin(['United_Russia'])]"
   ]
  },
  {
   "cell_type": "markdown",
   "metadata": {},
   "source": [
    "### Calculation:"
   ]
  },
  {
   "cell_type": "code",
   "execution_count": 238,
   "metadata": {
    "collapsed": false
   },
   "outputs": [
    {
     "name": "stderr",
     "output_type": "stream",
     "text": [
      "C:\\Anaconda2\\lib\\site-packages\\ipykernel\\__main__.py:1: SettingWithCopyWarning: \n",
      "A value is trying to be set on a copy of a slice from a DataFrame.\n",
      "Try using .loc[row_indexer,col_indexer] = value instead\n",
      "\n",
      "See the caveats in the documentation: http://pandas.pydata.org/pandas-docs/stable/indexing.html#indexing-view-versus-copy\n",
      "  if __name__ == '__main__':\n"
     ]
    }
   ],
   "source": [
    "unRussia['first_digit'] = unRussia['Value'].astype(str).str[0]\n",
    "tabFreq = pd.DataFrame(unRussia.groupby('first_digit').size().rename('counts'))\n",
    "tabFreq = pd.DataFrame(tabFreq.counts)\n",
    "tabFreq.columns=[\"myCounts\"]"
   ]
  },
  {
   "cell_type": "markdown",
   "metadata": {},
   "source": [
    "Thus we've saved the observed distribution of first digit values. Compare it with the expected distribution by performing Chi-square test:"
   ]
  },
  {
   "cell_type": "code",
   "execution_count": 239,
   "metadata": {
    "collapsed": false
   },
   "outputs": [
    {
     "data": {
      "text/plain": [
       "Power_divergenceResult(statistic=4406.3860802959643, pvalue=0.0)"
      ]
     },
     "execution_count": 239,
     "metadata": {},
     "output_type": "execute_result"
    }
   ],
   "source": [
    "probs=pd.DataFrame({'Probability':[0.30103, 0.176091, 0.124939, 0.09691, 0.0791812, 0.0669468, 0.0579919, 0.0511525, 0.0457575]})\n",
    "probs.expDistr=probs.Probability*95945\n",
    "chisquare(probs.expDistr, tabFreq.myCounts, axis=None)"
   ]
  },
  {
   "cell_type": "markdown",
   "metadata": {},
   "source": [
    "Well, the result of the test statistic won't be surprising if we plot expected and observed distributions:"
   ]
  },
  {
   "cell_type": "code",
   "execution_count": 240,
   "metadata": {
    "collapsed": false
   },
   "outputs": [],
   "source": [
    "loc1=(1, 3, 5, 7, 9, 11, 13, 15, 17)\n",
    "loc2=(2, 4, 6, 8, 10, 12, 14, 16, 18,)\n",
    "ind =np.arange(1,19,2)\n",
    "width= 0.35\n",
    "ax = plt.subplot(111)\n",
    "p1=ax.bar(loc1, tabFreq.myCounts, align='center', alpha=0.4, color='b')\n",
    "p2=ax.bar(loc2, probs.expDistr, align='center', alpha=0.4, color='r')\n",
    "ax.set_ylabel('Percentage')\n",
    "ax.set_xlabel('First digits')\n",
    "ax.set_title('United Russia: Observed and Expected Distribution of First Digits')\n",
    "ax.set_xticks(ind+0.5)\n",
    "ax.set_xticklabels(('1', '2', '3', '4', '5', '6', '7', '8', '9'))\n",
    "\n",
    "plt.legend((p1[1], p2[1]), ('Observed', 'Expected'))\n",
    "plt.show()"
   ]
  },
  {
   "cell_type": "markdown",
   "metadata": {},
   "source": [
    "We can check second digits. However, we will need different inputs for the expected probabilities:"
   ]
  },
  {
   "cell_type": "code",
   "execution_count": 241,
   "metadata": {
    "collapsed": false
   },
   "outputs": [
    {
     "name": "stderr",
     "output_type": "stream",
     "text": [
      "C:\\Anaconda2\\lib\\site-packages\\ipykernel\\__main__.py:1: SettingWithCopyWarning: \n",
      "A value is trying to be set on a copy of a slice from a DataFrame.\n",
      "Try using .loc[row_indexer,col_indexer] = value instead\n",
      "\n",
      "See the caveats in the documentation: http://pandas.pydata.org/pandas-docs/stable/indexing.html#indexing-view-versus-copy\n",
      "  if __name__ == '__main__':\n"
     ]
    },
    {
     "data": {
      "text/plain": [
       "Power_divergenceResult(statistic=38.848829118871095, pvalue=1.2266507773817321e-05)"
      ]
     },
     "execution_count": 241,
     "metadata": {},
     "output_type": "execute_result"
    }
   ],
   "source": [
    "unRussia['second_digit'] = unRussia['Value'].astype(str).str[1]\n",
    "tabFreq = pd.DataFrame(unRussia.groupby('second_digit').size().rename('counts'))\n",
    "tabFreq = pd.DataFrame(tabFreq.counts)\n",
    "tabFreq.columns=[\"myCounts\"]\n",
    "probs=pd.DataFrame({'Probability':[0.11968,0.11389,0.10882,0.10433,0.10031,0.09668,0.09337,0.09035,0.08757,0.085]})\n",
    "probs.expDistr=probs.Probability*95945\n",
    "chisquare(probs.expDistr, tabFreq.myCounts, axis=None)"
   ]
  },
  {
   "cell_type": "code",
   "execution_count": 242,
   "metadata": {
    "collapsed": true
   },
   "outputs": [],
   "source": [
    "loc1=(1, 3, 5, 7, 9, 11, 13, 15, 17, 19)\n",
    "loc2=(2, 4, 6, 8, 10, 12, 14, 16, 18, 20)\n",
    "ind =np.arange(1,21,2)\n",
    "ax = plt.subplot(111)\n",
    "p1=ax.bar(loc1, tabFreq.myCounts, align='center', alpha=0.4, color='b')\n",
    "p2=ax.bar(loc2, probs.expDistr, align='center', alpha=0.4, color='r')\n",
    "ax.set_ylabel('Percentage')\n",
    "ax.set_xlabel('Second digits')\n",
    "ax.set_title('United Russia: Observed and Expected Distribution of Second Digits')\n",
    "ax.set_xticks(ind+0.5)\n",
    "ax.set_xticklabels(('0', '1', '2', '3', '4', '5', '6', '7', '8', '9'))\n",
    "\n",
    "plt.legend((p1[1], p2[1]), ('Observed', 'Expected'))\n",
    "plt.show()"
   ]
  },
  {
   "cell_type": "markdown",
   "metadata": {},
   "source": [
    "For turnout figures, we are following the same steps, however, subsetting only corresponding observations from the melted data frame"
   ]
  },
  {
   "cell_type": "code",
   "execution_count": 243,
   "metadata": {
    "collapsed": false
   },
   "outputs": [
    {
     "name": "stderr",
     "output_type": "stream",
     "text": [
      "C:\\Anaconda2\\lib\\site-packages\\ipykernel\\__main__.py:2: SettingWithCopyWarning: \n",
      "A value is trying to be set on a copy of a slice from a DataFrame.\n",
      "Try using .loc[row_indexer,col_indexer] = value instead\n",
      "\n",
      "See the caveats in the documentation: http://pandas.pydata.org/pandas-docs/stable/indexing.html#indexing-view-versus-copy\n",
      "  from ipykernel import kernelapp as app\n"
     ]
    },
    {
     "name": "stdout",
     "output_type": "stream",
     "text": [
      "Power_divergenceResult(statistic=7324.545017089772, pvalue=0.0)\n"
     ]
    }
   ],
   "source": [
    "unRussia=ruTidy[ruTidy['Variable'].isin(['Turnout'])]\n",
    "unRussia['first_digit'] = unRussia['Value'].astype(str).str[0]\n",
    "tabFreq = pd.DataFrame(unRussia.groupby('first_digit').size().rename('counts'))\n",
    "tabFreq = pd.DataFrame(tabFreq.counts)\n",
    "tabFreq.columns=[\"myCounts\"]\n",
    "probs=pd.DataFrame({'Probability':[0.30103, 0.176091, 0.124939, 0.09691, 0.0791812, 0.0669468, 0.0579919, 0.0511525, 0.0457575]})\n",
    "probs.expDistr=probs.Probability*95945\n",
    "chitest=chisquare(probs.expDistr, tabFreq.myCounts, axis=None)\n",
    "print(chitest)\n",
    "loc1=(1, 3, 5, 7, 9, 11, 13, 15, 17)\n",
    "loc2=(2, 4, 6, 8, 10, 12, 14, 16, 18,)\n",
    "\n",
    "ind =np.arange(1,19,2)\n",
    "width= 0.35\n",
    "ax = plt.subplot(111)\n",
    "p1=ax.bar(loc1, tabFreq.myCounts, align='center', alpha=0.4, color='b')\n",
    "p2=ax.bar(loc2, probs.expDistr, align='center', alpha=0.4, color='r')\n",
    "ax.set_ylabel('Percentage')\n",
    "ax.set_xlabel('First digits')\n",
    "ax.set_title('Turnout: Observed and Expected Distribution of First Digits')\n",
    "ax.set_xticks(ind+0.5)\n",
    "ax.set_xticklabels(('1', '2', '3', '4', '5', '6', '7', '8', '9'))\n",
    "plt.legend((p1[1], p2[1]), ('Observed', 'Expected'))\n",
    "plt.show()"
   ]
  },
  {
   "cell_type": "code",
   "execution_count": 244,
   "metadata": {
    "collapsed": false
   },
   "outputs": [
    {
     "name": "stderr",
     "output_type": "stream",
     "text": [
      "C:\\Anaconda2\\lib\\site-packages\\ipykernel\\__main__.py:1: SettingWithCopyWarning: \n",
      "A value is trying to be set on a copy of a slice from a DataFrame.\n",
      "Try using .loc[row_indexer,col_indexer] = value instead\n",
      "\n",
      "See the caveats in the documentation: http://pandas.pydata.org/pandas-docs/stable/indexing.html#indexing-view-versus-copy\n",
      "  if __name__ == '__main__':\n"
     ]
    },
    {
     "name": "stdout",
     "output_type": "stream",
     "text": [
      "Power_divergenceResult(statistic=81.733160018791111, pvalue=7.309212180437401e-14)\n"
     ]
    }
   ],
   "source": [
    "unRussia['second_digit'] = unRussia['Value'].astype(str).str[1]\n",
    "tabFreq = pd.DataFrame(unRussia.groupby('second_digit').size().rename('counts'))\n",
    "tabFreq = pd.DataFrame(tabFreq.counts)\n",
    "tabFreq.columns=[\"myCounts\"]\n",
    "probs=pd.DataFrame({'Probability':[0.11968,0.11389,0.10882,0.10433,0.10031,0.09668,0.09337,0.09035,0.08757,0.085]})\n",
    "probs.expDistr=probs.Probability*95945\n",
    "chitest=chisquare(probs.expDistr, tabFreq.myCounts, axis=None)\n",
    "print(chitest)\n",
    "\n",
    "loc1=(1, 3, 5, 7, 9, 11, 13, 15, 17, 19)\n",
    "loc2=(2, 4, 6, 8, 10, 12, 14, 16, 18, 20)\n",
    "ind =np.arange(1,21,2)\n",
    "ax = plt.subplot(111)\n",
    "p1=ax.bar(loc1, tabFreq.myCounts, align='center', alpha=0.4, color='b')\n",
    "p2=ax.bar(loc2, probs.expDistr, align='center', alpha=0.4, color='r')\n",
    "ax.set_ylabel('Percentage')\n",
    "ax.set_xlabel('Second digits')\n",
    "ax.set_title('Turnout: Observed and Expected Distribution of Second Digits')\n",
    "ax.set_xticks(ind+0.5)\n",
    "ax.set_xticklabels(('0', '1', '2', '3', '4', '5', '6', '7', '8', '9'))\n",
    "\n",
    "plt.legend((p1[1], p2[1]), ('Observed', 'Expected'))\n",
    "plt.show()"
   ]
  },
  {
   "cell_type": "markdown",
   "metadata": {},
   "source": [
    "It looks that both turnout and votes cast for the incumbent United Russia party, tests for the first and second digits reveal unusual pattern. In all cases, observed distributions significantly differ from what is expected. As it was mentioned above, Benford's law should be applied to elections with caution, however, 2016 Russian elections clearly show signs of electoral malpractice and manipulation."
   ]
  }
 ],
 "metadata": {
  "anaconda-cloud": {},
  "kernelspec": {
   "display_name": "Python [Root]",
   "language": "python",
   "name": "Python [Root]"
  },
  "language_info": {
   "codemirror_mode": {
    "name": "ipython",
    "version": 2
   },
   "file_extension": ".py",
   "mimetype": "text/x-python",
   "name": "python",
   "nbconvert_exporter": "python",
   "pygments_lexer": "ipython2",
   "version": "2.7.12"
  },
  "nbpresent": {
   "slides": {
    "2925aa35-fe65-4fb8-a5ed-a4bc9579e1ac": {
     "id": "2925aa35-fe65-4fb8-a5ed-a4bc9579e1ac",
     "prev": "b1dc6eb3-4671-4ef7-b94d-9440e75d7cdb",
     "regions": {
      "c656dde8-37a3-465e-9a7b-aebbe3c5ce54": {
       "attrs": {
        "height": 0.8,
        "width": 0.8,
        "x": 0.1,
        "y": 0.1
       },
       "content": {
        "cell": "d7590561-60d4-401b-9ed8-d2af667070e3",
        "part": "whole"
       },
       "id": "c656dde8-37a3-465e-9a7b-aebbe3c5ce54"
      }
     }
    },
    "441b41f6-200d-48c2-9d34-2c45982db658": {
     "id": "441b41f6-200d-48c2-9d34-2c45982db658",
     "prev": "2925aa35-fe65-4fb8-a5ed-a4bc9579e1ac",
     "regions": {
      "d118a07b-b48c-4cfb-add6-bbad4d75dada": {
       "attrs": {
        "height": 0.8,
        "width": 0.8,
        "x": 0.1,
        "y": 0.1
       },
       "content": {
        "cell": "05620d0a-769e-445a-86cb-dddb8b53ce6e",
        "part": "whole"
       },
       "id": "d118a07b-b48c-4cfb-add6-bbad4d75dada"
      }
     }
    },
    "75c43de0-bcc9-4e86-a7ea-35ad656c410b": {
     "id": "75c43de0-bcc9-4e86-a7ea-35ad656c410b",
     "prev": "441b41f6-200d-48c2-9d34-2c45982db658",
     "regions": {
      "c2fe8191-93bb-414a-87b8-e172685c7961": {
       "attrs": {
        "height": 0.8,
        "width": 0.8,
        "x": 0.1,
        "y": 0.1
       },
       "content": {
        "cell": "db27ab5b-6d38-4eb1-a5e7-ef06476d636c",
        "part": "whole"
       },
       "id": "c2fe8191-93bb-414a-87b8-e172685c7961"
      }
     }
    },
    "b1dc6eb3-4671-4ef7-b94d-9440e75d7cdb": {
     "id": "b1dc6eb3-4671-4ef7-b94d-9440e75d7cdb",
     "prev": "ccc45704-f121-4c17-908a-767b3f032868",
     "regions": {
      "ca057d3b-31f5-45fc-8b4d-8059342014ca": {
       "attrs": {
        "height": 0.8,
        "width": 0.8,
        "x": 0.1,
        "y": 0.1
       },
       "content": {
        "cell": "b257bd72-d3ae-4b84-b2c8-0e527e3f6237",
        "part": "whole"
       },
       "id": "ca057d3b-31f5-45fc-8b4d-8059342014ca"
      }
     }
    },
    "ccc45704-f121-4c17-908a-767b3f032868": {
     "id": "ccc45704-f121-4c17-908a-767b3f032868",
     "prev": null,
     "regions": {
      "080ca561-9116-449d-8578-8091a3670e8f": {
       "attrs": {
        "height": 0.8,
        "width": 0.8,
        "x": 0.1,
        "y": 0.1
       },
       "content": {
        "cell": "6b65f345-536c-481a-b093-27ffb5309ed2",
        "part": "whole"
       },
       "id": "080ca561-9116-449d-8578-8091a3670e8f"
      }
     }
    }
   },
   "themes": {}
  }
 },
 "nbformat": 4,
 "nbformat_minor": 0
}
