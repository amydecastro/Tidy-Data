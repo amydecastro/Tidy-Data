{
 "cells": [
  {
   "cell_type": "code",
   "execution_count": 5,
   "metadata": {
    "collapsed": false
   },
   "outputs": [],
   "source": [
    "import pandas as pd\n",
    "import numpy as np\n",
    "import matplotlib.pylab as plt\n",
    "import seaborn as sns \n",
    "from matplotlib.pylab import rcParams\n",
    "rcParams['figure.figsize'] = 8, 4\n",
    "from matplotlib.patches import Ellipse, Circle\n",
    "from mpl_toolkits.mplot3d.art3d import Poly3DCollection\n",
    "import mpl_toolkits.mplot3d.art3d as art3d\n",
    "from mpl_toolkits.mplot3d import proj3d\n",
    "from ipywidgets import interact, interactive, fixed\n",
    "import pysal as py\n",
    "from IPython.display import IFrame, Image, display"
   ]
  },
  {
   "cell_type": "code",
   "execution_count": 57,
   "metadata": {
    "collapsed": false
   },
   "outputs": [
    {
     "data": {
      "text/html": [
       "<div>\n",
       "<table border=\"1\" class=\"dataframe\">\n",
       "  <thead>\n",
       "    <tr style=\"text-align: right;\">\n",
       "      <th></th>\n",
       "      <th>Asylum_Country</th>\n",
       "      <th>Origin_Country</th>\n",
       "      <th>Year</th>\n",
       "      <th>Refugee_Total</th>\n",
       "    </tr>\n",
       "  </thead>\n",
       "  <tbody>\n",
       "    <tr>\n",
       "      <th>0</th>\n",
       "      <td>Canada</td>\n",
       "      <td>Afghanistan</td>\n",
       "      <td>2013</td>\n",
       "      <td>2700</td>\n",
       "    </tr>\n",
       "    <tr>\n",
       "      <th>1</th>\n",
       "      <td>Canada</td>\n",
       "      <td>Libya</td>\n",
       "      <td>2013</td>\n",
       "      <td>230</td>\n",
       "    </tr>\n",
       "    <tr>\n",
       "      <th>2</th>\n",
       "      <td>Canada</td>\n",
       "      <td>Syrian Arab Rep.</td>\n",
       "      <td>2013</td>\n",
       "      <td>592</td>\n",
       "    </tr>\n",
       "    <tr>\n",
       "      <th>3</th>\n",
       "      <td>Germany</td>\n",
       "      <td>Afghanistan</td>\n",
       "      <td>2013</td>\n",
       "      <td>24203</td>\n",
       "    </tr>\n",
       "    <tr>\n",
       "      <th>4</th>\n",
       "      <td>Germany</td>\n",
       "      <td>Libya</td>\n",
       "      <td>2013</td>\n",
       "      <td>141</td>\n",
       "    </tr>\n",
       "  </tbody>\n",
       "</table>\n",
       "</div>"
      ],
      "text/plain": [
       "  Asylum_Country    Origin_Country  Year  Refugee_Total\n",
       "0         Canada       Afghanistan  2013           2700\n",
       "1         Canada             Libya  2013            230\n",
       "2         Canada  Syrian Arab Rep.  2013            592\n",
       "3        Germany       Afghanistan  2013          24203\n",
       "4        Germany             Libya  2013            141"
      ]
     },
     "execution_count": 57,
     "metadata": {},
     "output_type": "execute_result"
    }
   ],
   "source": [
    "refugees = pd.read_csv('files/refugees2.csv')\n",
    "refugees.head()"
   ]
  },
  {
   "cell_type": "code",
   "execution_count": 111,
   "metadata": {
    "collapsed": false,
    "scrolled": true
   },
   "outputs": [
    {
     "data": {
      "text/html": [
       "<div>\n",
       "<table border=\"1\" class=\"dataframe\">\n",
       "  <thead>\n",
       "    <tr style=\"text-align: right;\">\n",
       "      <th></th>\n",
       "      <th>Origin_Country</th>\n",
       "      <th>Year</th>\n",
       "      <th>Asylum_Country</th>\n",
       "      <th>variable</th>\n",
       "      <th>Refugee_Total</th>\n",
       "    </tr>\n",
       "  </thead>\n",
       "  <tbody>\n",
       "    <tr>\n",
       "      <th>204</th>\n",
       "      <td>Afghanistan</td>\n",
       "      <td>2003</td>\n",
       "      <td>Canada</td>\n",
       "      <td>Refugee_Total</td>\n",
       "      <td>14616</td>\n",
       "    </tr>\n",
       "    <tr>\n",
       "      <th>207</th>\n",
       "      <td>Afghanistan</td>\n",
       "      <td>2003</td>\n",
       "      <td>Germany</td>\n",
       "      <td>Refugee_Total</td>\n",
       "      <td>46975</td>\n",
       "    </tr>\n",
       "    <tr>\n",
       "      <th>210</th>\n",
       "      <td>Afghanistan</td>\n",
       "      <td>2003</td>\n",
       "      <td>Lebanon</td>\n",
       "      <td>Refugee_Total</td>\n",
       "      <td>49</td>\n",
       "    </tr>\n",
       "    <tr>\n",
       "      <th>211</th>\n",
       "      <td>Afghanistan</td>\n",
       "      <td>2003</td>\n",
       "      <td>Sweden</td>\n",
       "      <td>Refugee_Total</td>\n",
       "      <td>3425</td>\n",
       "    </tr>\n",
       "    <tr>\n",
       "      <th>214</th>\n",
       "      <td>Afghanistan</td>\n",
       "      <td>2003</td>\n",
       "      <td>Switzerland</td>\n",
       "      <td>Refugee_Total</td>\n",
       "      <td>1598</td>\n",
       "    </tr>\n",
       "  </tbody>\n",
       "</table>\n",
       "</div>"
      ],
      "text/plain": [
       "    Origin_Country  Year Asylum_Country       variable  Refugee_Total\n",
       "204    Afghanistan  2003         Canada  Refugee_Total          14616\n",
       "207    Afghanistan  2003        Germany  Refugee_Total          46975\n",
       "210    Afghanistan  2003        Lebanon  Refugee_Total             49\n",
       "211    Afghanistan  2003         Sweden  Refugee_Total           3425\n",
       "214    Afghanistan  2003    Switzerland  Refugee_Total           1598"
      ]
     },
     "execution_count": 111,
     "metadata": {},
     "output_type": "execute_result"
    }
   ],
   "source": [
    "tidy_refugees = pd.melt(refugees, id_vars=[\"Origin_Country\", \"Year\", \"Asylum_Country\"], value_name=\"Refugee_Total\")\n",
    "tidy_refugees.sort_values(by=['Origin_Country','Year','Asylum_Country'], inplace=True)                        \n",
    "tidy_refugees.head()"
   ]
  },
  {
   "cell_type": "code",
   "execution_count": null,
   "metadata": {
    "collapsed": true
   },
   "outputs": [],
   "source": [
    "#The data was obtained from the website for The Office of the United Nations High Commissioner for Refugees at  \n",
    "#http://data.un.org/Data.aspx?d=UNHCR&f=indID%3AType-Ref\n",
    "# Refugee origin countries were Afghanistan, Libya, and Syria.\n",
    "# Asylum countries chosen were Lebanon, Canada, United States, Germany, Sweden, Switzerland, and the United Kingdom\n",
    "# Countries were chosen for the level of ongoing conflict \n",
    "# and comparison between countries accepting refugees on the European continent, Middle East, and North America"
   ]
  }
 ],
 "metadata": {
  "anaconda-cloud": {},
  "kernelspec": {
   "display_name": "Python [conda root]",
   "language": "python",
   "name": "conda-root-py"
  },
  "language_info": {
   "codemirror_mode": {
    "name": "ipython",
    "version": 3
   },
   "file_extension": ".py",
   "mimetype": "text/x-python",
   "name": "python",
   "nbconvert_exporter": "python",
   "pygments_lexer": "ipython3",
   "version": "3.5.2"
  }
 },
 "nbformat": 4,
 "nbformat_minor": 0
}
